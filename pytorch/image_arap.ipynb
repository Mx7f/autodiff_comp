{
 "cells": [
  {
   "cell_type": "code",
   "execution_count": 2,
   "metadata": {},
   "outputs": [],
   "source": [
    "import torch\n",
    "from PIL import Image\n",
    "from torchvision import transforms\n",
    "from timeit import default_timer as timer"
   ]
  },
  {
   "cell_type": "markdown",
   "metadata": {},
   "source": [
    "This is a pytorch implementation of ARAP Image Deformation, as implemented in Opt/Thallo. Below is the Thallo implemntation as reference.\n",
    "\n",
    "```lua\n",
    "local W,H = Dims(\"W\",\"H\")\n",
    "Inputs {\n",
    "\tOffset = Unknown(float2,{W,H},0),\n",
    "\tAngle = Unknown(float,{W,H},1),\t\n",
    "\tUrShape = Array(float2,{W,H},2), --original mesh position\n",
    "\tConstraints = Array(float2,{W,H},3), -- user constraints\n",
    "\tMask = Array(float, {W,H},4), -- validity mask for mesh\n",
    "\tw_fitSqrt = Param(float, 5),\n",
    "\tw_regSqrt = Param(float, 6)\n",
    "}\n",
    "\n",
    "local x,y = W(),H()\n",
    "Offset:Exclude(Not(eq(Mask(x,y),0)))\n",
    "Angle:Exclude(Not(eq(Mask(x,y),0)))\n",
    "\n",
    "local regs = {}\n",
    "for dx,dy in Stencil { {1,0}, {-1,0}, {0,1}, {0, -1} } do\n",
    "    local e_reg = w_regSqrt*((Offset(x,y) - Offset(x+dx,y+dy)) \n",
    "                             - Rotate2D(Angle(x,y),(UrShape(x,y) - UrShape(x+dx,y+dy))))\n",
    "    local valid = InBounds(x+dx,y+dy) * eq(Mask(x,y),0) * eq(Mask(x+dx,y+dy),0)\n",
    "    regs[#regs+1] = Select(valid,e_reg,0)\n",
    "end\n",
    "local e_fit = (Offset(x,y) - Constraints(x,y))\n",
    "local valid = All(greatereq(Constraints(x,y),0))*eq(Mask(x,y),0)\n",
    "r = Residuals {\n",
    "    reg = regs,\n",
    "    fit = w_fitSqrt*Select(valid, e_fit , 0.0)\n",
    "}\n",
    "```"
   ]
  },
  {
   "cell_type": "code",
   "execution_count": 3,
   "metadata": {},
   "outputs": [
    {
     "name": "stdout",
     "output_type": "stream",
     "text": [
      "(218, 300)\n",
      "torch.Size([1, 300, 218])\n"
     ]
    }
   ],
   "source": [
    "mask_path = \"../data/mask0.png\"\n",
    "mask_img = Image.open(mask_path)\n",
    "print(mask_img.size)\n",
    " \n",
    "Mask = transforms.ToTensor()(mask_img)\n",
    "print(Mask.shape) "
   ]
  },
  {
   "cell_type": "code",
   "execution_count": 4,
   "metadata": {},
   "outputs": [],
   "source": [
    "device = torch.device(\"cpu\")\n",
    "# device = torch.device(\"cuda:0\") # Uncomment this to run on GPU"
   ]
  },
  {
   "cell_type": "code",
   "execution_count": 5,
   "metadata": {},
   "outputs": [],
   "source": [
    "W,H = mask_img.size[0],mask_img.size[1] # local W,H = Dims(\"W\",\"H\")"
   ]
  },
  {
   "cell_type": "code",
   "execution_count": 59,
   "metadata": {},
   "outputs": [],
   "source": [
    "# Offset = Unknown(float2,{W,H},0)\n",
    "# Angle = Unknown(float,{W,H},1),  \n",
    "\n",
    "Offset_And_Angle = torch.zeros(3, H, W, device=device, dtype=torch.float, requires_grad=True) \n",
    "\"\"\"\n",
    "Offset = Offset_And_Angle[:2:]\n",
    "Angle = Offset_And_Angle[2::]\n",
    "\"\"\"\n",
    "\n",
    "# UrShape = Array(float2,{W,H},2), --original mesh position\n",
    "# Constraints = Array(float2,{W,H},3), -- user constraints\n",
    "# Mask = Array(float, {W,H},4), -- validity mask for mesh\n",
    "UrShape     = torch.zeros(2, H, W, device=device, dtype=torch.float)\n",
    "Constraints = torch.zeros(2, H, W, device=device, dtype=torch.float)\n",
    "Mask        = torch.zeros(1, H, W, device=device, dtype=torch.float)\n",
    "\n",
    "# w_fitSqrt = Param(float, 5)\n",
    "# w_regSqrt = Param(float, 6)\n",
    "w_fitSqrt = 10.0\n",
    "w_regSqrt = 0.1"
   ]
  },
  {
   "cell_type": "code",
   "execution_count": 42,
   "metadata": {},
   "outputs": [],
   "source": [
    "Mask = transforms.ToTensor()(mask_img)\n",
    "#TODO: data import here"
   ]
  },
  {
   "cell_type": "markdown",
   "metadata": {},
   "source": [
    "Fit residual:\n",
    "```lua\n",
    "local e_fit = (Offset(x,y) - Constraints(x,y))\n",
    "local valid = All(greatereq(Constraints(x,y),0))*eq(Mask(x,y),0)\n",
    "fit = w_fitSqrt*Select(valid, e_fit , 0.0)\n",
    "```"
   ]
  },
  {
   "cell_type": "code",
   "execution_count": 43,
   "metadata": {},
   "outputs": [],
   "source": [
    "def fit_residual(Offset_And_Angle):\n",
    "    Offset = Offset_And_Angle[:2:]\n",
    "    e_fit = Offset - Constraints\n",
    "    valid = (Constraints > 0)*(Mask == 0.0)\n",
    "    fit = w_fitSqrt*valid*e_fit\n",
    "    return fit.square()"
   ]
  },
  {
   "cell_type": "code",
   "execution_count": 68,
   "metadata": {},
   "outputs": [],
   "source": [
    "def vjp(f, x, v, create_graph=False):\n",
    "    x = x.detach().requires_grad_()\n",
    "    y = f(x)\n",
    "    y.backward(v, create_graph=create_graph)\n",
    "    return x.grad\n",
    "\"\"\"\n",
    "def alternative_Rop(f, x, u):\n",
    "    v = f.type('v')       # Dummy variable v of same type as f\n",
    "    g = T.Lop(f, x, v)    # Jacobian of f left multiplied by v\n",
    "    return T.Lop(g, v, u)\n",
    "\"\"\"\n",
    "def jvp(f, x, u, v=False, create_graph=False):\n",
    "    if not torch.is_tensor(v):\n",
    "        v = torch.ones_like(f(x),device=device,requires_grad=True) # TODO: just use dimensions of result, don't compute f(x)\n",
    "    g = lambda v: vjp(f, x, v, create_graph=True)\n",
    "    return vjp(g, v, u, create_graph=create_graph)\n",
    "\n",
    "def gn_step(f,x,p):\n",
    "    vjp(f,x,jvp(f,x,p))\n",
    "    \n",
    "def gn_benchmark(f,x,iterations=1000):\n",
    "    p = torch.ones_like(x,device=device,requires_grad=False)\n",
    "    dummy = torch.ones_like(f(x),device=device,requires_grad=True)\n",
    "    start = timer()\n",
    "    for i in range(iterations):\n",
    "        vjp(f,x,jvp(f,x,p,dummy))\n",
    "    end = timer()\n",
    "    return (end-start) / iterations\n",
    "\n",
    "def gradient_benchmark(f,x,iterations=1000):\n",
    "    y=f(x)\n",
    "    start = timer()\n",
    "    for i in range(iterations):\n",
    "        y.backward(torch.ones_like(y,device=device),retain_graph=True) # torch.ones_like(x,device=device),\n",
    "    end = timer()\n",
    "    return (end-start) / iterations\n",
    "\n",
    "def residual_benchmark(f,x,iterations=1000):\n",
    "    x_0 = torch.ones_like(x,device=device,requires_grad=False)\n",
    "    start = timer()\n",
    "    for i in range(iterations):\n",
    "        f(x_0)\n",
    "    end = timer()\n",
    "    return (end-start) / iterations\n",
    "\n",
    "def cost_benchmark(f,x,iterations=1000):\n",
    "    x_0 = torch.ones_like(x,device=device,requires_grad=False)\n",
    "    start = timer()\n",
    "    for i in range(iterations):\n",
    "        f(x_0).sum()\n",
    "    end = timer()\n",
    "    return (end-start) / iterations\n",
    "\n",
    "def all_benchmarks(f,x,iterations=10000):\n",
    "    print(\"Residuals: \" + str(residual_benchmark(f,x,iterations)*1000.0) + \"ms\")\n",
    "    print(\"Cost:      \" + str(cost_benchmark(f,x,iterations)*1000.0) + \"ms\")\n",
    "    print(\"Gradient:  \" + str(gradient_benchmark(f,x,iterations)*1000.0) + \"ms\")\n",
    "    print(\"JtJp:      \" + str(gn_benchmark(f,x,iterations)*1000.0) + \"ms\")"
   ]
  },
  {
   "cell_type": "code",
   "execution_count": 54,
   "metadata": {},
   "outputs": [
    {
     "name": "stdout",
     "output_type": "stream",
     "text": [
      "Residuals: 0.26379225566688547ms\n",
      "Cost:      0.29175251400010893ms\n",
      "torch.Size([3, 300, 218])\n",
      "torch.Size([2, 300, 218])\n",
      "Gradient:  0.3642981050000647ms\n",
      "JtJp:      2.8534251909998907ms\n"
     ]
    }
   ],
   "source": [
    "all_benchmarks(fit_residual,Offset_And_Angle,3000)"
   ]
  },
  {
   "cell_type": "code",
   "execution_count": 71,
   "metadata": {},
   "outputs": [],
   "source": [
    "\"\"\"\n",
    "local regs = {}\n",
    "for dx,dy in Stencil { {1,0}, {-1,0}, {0,1}, {0, -1} } do\n",
    "    local e_reg = w_regSqrt*((Offset(x,y) - Offset(x+dx,y+dy)) \n",
    "                             - Rotate2D(Angle(x,y),(UrShape(x,y) - UrShape(x+dx,y+dy))))\n",
    "    local valid = InBounds(x+dx,y+dy) * eq(Mask(x,y),0) * eq(Mask(x+dx,y+dy),0)\n",
    "    regs[#regs+1] = Select(valid,e_reg,0)\n",
    "end\n",
    "local e_fit = (Offset(x,y) - Constraints(x,y))\n",
    "local valid = All(greatereq(Constraints(x,y),0))*eq(Mask(x,y),0)\n",
    "r = Residuals {\n",
    "    reg = regs,\n",
    "    fit = w_fitSqrt*Select(valid, e_fit , 0.0)\n",
    "}\n",
    "\"\"\"\n",
    "\n",
    "\"\"\"\n",
    "function L.Rotate2D(angle, v)\n",
    "    local CosAlpha, SinAlpha = ad.cos(angle), ad.sin(angle)\n",
    "    local matrix = ad.Vector(CosAlpha, -SinAlpha, SinAlpha, CosAlpha)\n",
    "    return ad.Vector(matrix(0)*v(0)+matrix(1)*v(1), matrix(2)*v(0)+matrix(3)*v(1))\n",
    "end\n",
    "\n",
    "\"\"\"\n",
    "def Rotate2D(alpha,v):\n",
    "    #local CosAlpha, SinAlpha = ad.cos(angle), ad.sin(angle)\n",
    "    cosAlpha = torch.cos(alpha)\n",
    "    sinAlpha = torch.sin(alpha)\n",
    "    #local matrix = ad.Vector(CosAlpha, -SinAlpha, SinAlpha, CosAlpha)\n",
    "    #return ad.Vector(matrix(0)*v(0)+matrix(1)*v(1), matrix(2)*v(0)+matrix(3)*v(1))\n",
    "    #TODO: Find a way to make this one operation?\n",
    "    x = cosAlpha*v[:1:]-sinAlpha*v[1::]\n",
    "    y = sinAlpha*v[:1:]+cosAlpha*v[1::]\n",
    "    return torch.cat([x,y])\n",
    "    \n",
    "\n",
    "def reg_residual(Offset_And_Angle,offsets):\n",
    "    Offset = Offset_And_Angle[:2:]\n",
    "    Angle = Offset_And_Angle[2::]\n",
    "    #anything cheaper than roll available?\n",
    "    Off01   = Offset.roll(shifts=offsets,dims=(1,2))\n",
    "    UrShape01 = UrShape.roll(shifts=offsets,dims=(1,2))\n",
    "    \n",
    "    \"\"\"\n",
    "    local e_reg = w_regSqrt*((Offset(x,y) - Offset(x+dx,y+dy)) \n",
    "                             - Rotate2D(Angle(x,y),(UrShape(x,y) - UrShape(x+dx,y+dy))))\n",
    "    \"\"\"\n",
    "    e_reg = w_regSqrt*(Offset-Off01) - Rotate2D(Angle,UrShape-UrShape01)\n",
    "    \n",
    "    Mask01 = Mask.roll(shifts=offsets,dims=(1,2))\n",
    "    # TODO: For now, we assume InBounds(x+dx,y+dy) is redundant with the mask\n",
    "    valid = (Mask==0.0) * (Mask01==0.0)\n",
    "    return (e_reg*valid).square()\n",
    "\n",
    "\n",
    "def make_reg_residual(offsets):\n",
    "    return lambda x: reg_residual(x,offsets)\n",
    "\n",
    "residuals = [make_reg_residual(off) for off in [(0,1),(0,-1),(1,0),(-1,0)]]\n",
    "residuals += [fit_residual]\n",
    "\n",
    "all_residuals = lambda x: torch.cat([residual(x) for residual in residuals])"
   ]
  },
  {
   "cell_type": "code",
   "execution_count": 72,
   "metadata": {},
   "outputs": [
    {
     "name": "stdout",
     "output_type": "stream",
     "text": [
      "Residuals: 5.779629956000463ms\n",
      "Cost:      5.7800542519999ms\n",
      "Gradient:  6.241290219999428ms\n",
      "JtJp:      55.89417330299966ms\n"
     ]
    }
   ],
   "source": [
    "all_benchmarks(all_residuals,Offset_And_Angle,1000)"
   ]
  },
  {
   "cell_type": "code",
   "execution_count": null,
   "metadata": {},
   "outputs": [],
   "source": []
  }
 ],
 "metadata": {
  "kernelspec": {
   "display_name": "Python 3",
   "language": "python",
   "name": "python3"
  },
  "language_info": {
   "codemirror_mode": {
    "name": "ipython",
    "version": 3
   },
   "file_extension": ".py",
   "mimetype": "text/x-python",
   "name": "python",
   "nbconvert_exporter": "python",
   "pygments_lexer": "ipython3",
   "version": "3.7.4"
  }
 },
 "nbformat": 4,
 "nbformat_minor": 2
}
